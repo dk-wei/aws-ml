{
  "nbformat": 4,
  "nbformat_minor": 0,
  "metadata": {
    "kernelspec": {
      "display_name": "conda_python3",
      "language": "python",
      "name": "conda_python3"
    },
    "colab": {
      "name": "AWS SageMakers for ML Model.ipynb",
      "provenance": [],
      "collapsed_sections": [],
      "toc_visible": true,
      "include_colab_link": true
    }
  },
  "cells": [
    {
      "cell_type": "markdown",
      "metadata": {
        "id": "view-in-github",
        "colab_type": "text"
      },
      "source": [
        "<a href=\"https://colab.research.google.com/github/dk-wei/aws-ml/blob/main/AWS_SageMakers_for_ML_Model.ipynb\" target=\"_parent\"><img src=\"https://colab.research.google.com/assets/colab-badge.svg\" alt=\"Open In Colab\"/></a>"
      ]
    },
    {
      "cell_type": "markdown",
      "metadata": {
        "id": "h-ItWGF7gaXZ"
      },
      "source": [
        "Tutorial: [AWS SageMaker For ML And DL Tutorial](https://www.youtube.com/watch?v=LkR3GNDB0HI&list=PLZoTAELRMXVONh5mHrXowH6-dgyWoC_Ew&index=1)\n",
        "\n",
        "#### Steps To Be Followed In This Tutorial\n",
        "1. Importing necessary Libraries\n",
        "2. Creating S3 bucket \n",
        "3. Mapping train And test Data in S3\n",
        "4. Mapping the path of the models in S3\n",
        "5. train and fit the model\n",
        "6. **deploy trained model as Endpoints**\n",
        "6. teat deployed model\n",
        "\n",
        "#### After Deployement of Model (not covered in this tutorial)\n",
        "7. create Amazon API Gateway API\n",
        "8. AWS Lambda call runtime invoke_endpoints"
      ]
    },
    {
      "cell_type": "markdown",
      "metadata": {
        "id": "sHmtLqpcgaXY"
      },
      "source": [
        "### Importing Important Libraries"
      ]
    },
    {
      "cell_type": "code",
      "metadata": {
        "id": "s9Uy1J5VgaXZ"
      },
      "source": [
        "import sagemaker\n",
        "\n",
        "# boto3 is a SDK that allows Python developers to write software that makes use of services like Amazon S3 and Amazon EC2\n",
        "import boto3\n",
        "\n",
        "# download in-built sagemaker ml model images\n",
        "from sagemaker.amazon.amazon_estimator import get_image_uri    \n",
        "\n",
        "from sagemaker.session import s3_input, Session"
      ],
      "execution_count": null,
      "outputs": []
    },
    {
      "cell_type": "code",
      "metadata": {
        "id": "aGth3emIgaXa",
        "outputId": "5405fdf2-9f18-44bc-aa9f-d910265a84ca"
      },
      "source": [
        "bucket_name = 'bankapplication' # <--- CHANGE THIS VARIABLE TO A UNIQUE NAME FOR YOUR BUCKET\n",
        "my_region = boto3.session.Session().region_name # set the region of the instance\n",
        "print(my_region)"
      ],
      "execution_count": null,
      "outputs": [
        {
          "output_type": "stream",
          "text": [
            "us-east-1\n"
          ],
          "name": "stdout"
        }
      ]
    },
    {
      "cell_type": "code",
      "metadata": {
        "id": "79BGpg9HgaXb",
        "outputId": "eb5c634b-3393-400d-ad30-fbf03e230bfc"
      },
      "source": [
        "s3 = boto3.resource('s3')\n",
        "try:\n",
        "    if  my_region == 'us-east-1':\n",
        "        s3.create_bucket(Bucket=bucket_name)\n",
        "    print('S3 bucket created successfully')\n",
        "except Exception as e:\n",
        "    print('S3 error: ',e)"
      ],
      "execution_count": null,
      "outputs": [
        {
          "output_type": "stream",
          "text": [
            "S3 bucket created successfully\n"
          ],
          "name": "stdout"
        }
      ]
    },
    {
      "cell_type": "code",
      "metadata": {
        "id": "ZWTcjDDfgaXc",
        "outputId": "48405928-92c2-42aa-ba56-89c87abc4b22"
      },
      "source": [
        "# set an output path where the trained model will be saved\n",
        "prefix = 'xgboost-as-a-built-in-algo'\n",
        "output_path ='s3://{}/{}/output'.format(bucket_name, prefix)\n",
        "print(output_path)"
      ],
      "execution_count": null,
      "outputs": [
        {
          "output_type": "stream",
          "text": [
            "s3://bankapplication/xgboost-as-a-built-in-algo/output\n"
          ],
          "name": "stdout"
        }
      ]
    },
    {
      "cell_type": "markdown",
      "metadata": {
        "id": "Zf9nX9h_gaXc"
      },
      "source": [
        "#### Downloading The Dataset And Storing in S3"
      ]
    },
    {
      "cell_type": "code",
      "metadata": {
        "id": "iwuIRzI6gaXc",
        "outputId": "4db67588-b247-470d-aa40-2d0c431304c8"
      },
      "source": [
        "import pandas as pd\n",
        "import urllib\n",
        "try:\n",
        "    urllib.request.urlretrieve (\"https://d1.awsstatic.com/tmt/build-train-deploy-machine-learning-model-sagemaker/bank_clean.27f01fbbdf43271788427f3682996ae29ceca05d.csv\", \"bank_clean.csv\")\n",
        "    print('Success: downloaded bank_clean.csv.')\n",
        "except Exception as e:\n",
        "    print('Data load error: ',e)\n",
        "\n",
        "try:\n",
        "    model_data = pd.read_csv('./bank_clean.csv',index_col=0)\n",
        "    print('Success: Data loaded into dataframe.')\n",
        "except Exception as e:\n",
        "    print('Data load error: ',e)"
      ],
      "execution_count": null,
      "outputs": [
        {
          "output_type": "stream",
          "text": [
            "Success: downloaded bank_clean.csv.\n",
            "Success: Data loaded into dataframe.\n"
          ],
          "name": "stdout"
        }
      ]
    },
    {
      "cell_type": "code",
      "metadata": {
        "id": "RngEn8ergaXd",
        "outputId": "225ed1e1-1bd8-4dc5-cc7c-fa3e272b4fb4"
      },
      "source": [
        "### Train Test split\n",
        "\n",
        "import numpy as np\n",
        "train_data, test_data = np.split(model_data.sample(frac=1, random_state=1729), [int(0.7 * len(model_data))])\n",
        "print(train_data.shape, test_data.shape)"
      ],
      "execution_count": null,
      "outputs": [
        {
          "output_type": "stream",
          "text": [
            "(28831, 61) (12357, 61)\n"
          ],
          "name": "stdout"
        }
      ]
    },
    {
      "cell_type": "code",
      "metadata": {
        "id": "3sJyQEWZgaXd",
        "outputId": "0590aee0-0ff3-4639-d6fb-27b6025eb4a0"
      },
      "source": [
        "### Saving Train And Test Into Buckets\n",
        "## We start with Train Data\n",
        "import os\n",
        "pd.concat([train_data['y_yes'], train_data.drop(['y_no', 'y_yes'], \n",
        "                                                axis=1)], \n",
        "                                                axis=1).to_csv('train.csv', index=False, header=False)\n",
        "boto3.Session().resource('s3').Bucket(bucket_name).Object(os.path.join(prefix, 'train/train.csv')).upload_file('train.csv')\n",
        "s3_input_train = sagemaker.s3_input(s3_data='s3://{}/{}/train'.format(bucket_name, prefix), content_type='csv')"
      ],
      "execution_count": null,
      "outputs": [
        {
          "output_type": "stream",
          "text": [
            "'s3_input' class will be renamed to 'TrainingInput' in SageMaker Python SDK v2.\n"
          ],
          "name": "stderr"
        }
      ]
    },
    {
      "cell_type": "code",
      "metadata": {
        "id": "PbpDiB1JgaXe",
        "outputId": "39f4b180-d8e9-4ca9-8df5-9d4fc001aac1"
      },
      "source": [
        "# Test Data Into Buckets\n",
        "pd.concat([test_data['y_yes'], test_data.drop(['y_no', 'y_yes'], axis=1)], axis=1).to_csv('test.csv', index=False, header=False)\n",
        "boto3.Session().resource('s3').Bucket(bucket_name).Object(os.path.join(prefix, 'test/test.csv')).upload_file('test.csv')\n",
        "s3_input_test = sagemaker.s3_input(s3_data='s3://{}/{}/test'.format(bucket_name, prefix), content_type='csv')"
      ],
      "execution_count": null,
      "outputs": [
        {
          "output_type": "stream",
          "text": [
            "'s3_input' class will be renamed to 'TrainingInput' in SageMaker Python SDK v2.\n"
          ],
          "name": "stderr"
        }
      ]
    },
    {
      "cell_type": "markdown",
      "metadata": {
        "id": "6LqMxv7jgaXe"
      },
      "source": [
        "### Building Models Xgboot - Inbuilt Algorithm"
      ]
    },
    {
      "cell_type": "markdown",
      "metadata": {
        "id": "an0LrmcTjsni"
      },
      "source": [
        "load sagemaker xgboost model images and build an container"
      ]
    },
    {
      "cell_type": "code",
      "metadata": {
        "id": "1SXbCdpWgaXe",
        "outputId": "ce2ed861-e6a0-4b0c-fbf3-9a1fa58eeb74"
      },
      "source": [
        "# this line automatically looks for the XGBoost image URI and builds an XGBoost container.\n",
        "# specify the repo_version depending on your preference.\n",
        "container = get_image_uri(boto3.Session().region_name,\n",
        "                          'xgboost', \n",
        "                          repo_version='1.0-1')"
      ],
      "execution_count": null,
      "outputs": [
        {
          "output_type": "stream",
          "text": [
            "'get_image_uri' method will be deprecated in favor of 'ImageURIProvider' class in SageMaker Python SDK v2.\n"
          ],
          "name": "stderr"
        }
      ]
    },
    {
      "cell_type": "code",
      "metadata": {
        "id": "KLCxmTVagaXf"
      },
      "source": [
        "# initialize hyperparameters\n",
        "hyperparameters = {\n",
        "        \"max_depth\":\"5\",\n",
        "        \"eta\":\"0.2\",\n",
        "        \"gamma\":\"4\",\n",
        "        \"min_child_weight\":\"6\",\n",
        "        \"subsample\":\"0.7\",\n",
        "        \"objective\":\"binary:logistic\",\n",
        "        \"num_round\":50\n",
        "        }"
      ],
      "execution_count": null,
      "outputs": []
    },
    {
      "cell_type": "code",
      "metadata": {
        "id": "joJdfoiwgaXf",
        "outputId": "9ef08c5c-9359-4558-a912-504b5f6a11b2"
      },
      "source": [
        "# construct a SageMaker estimator that calls the xgboost-container\n",
        "estimator = sagemaker.estimator.Estimator(image_name=container, \n",
        "                                          hyperparameters=hyperparameters,\n",
        "                                          role=sagemaker.get_execution_role(),\n",
        "                                          train_instance_count=1, \n",
        "                                          train_instance_type='ml.m5.2xlarge', \n",
        "                                          train_volume_size=5, # 5 GB \n",
        "                                          output_path=output_path,\n",
        "                                          \n",
        "                                          train_use_spot_instances=True,\n",
        "                                          train_max_run=300,\n",
        "                                          train_max_wait=600\n",
        "                                          )"
      ],
      "execution_count": null,
      "outputs": [
        {
          "output_type": "stream",
          "text": [
            "Parameter image_name will be renamed to image_uri in SageMaker Python SDK v2.\n"
          ],
          "name": "stderr"
        }
      ]
    },
    {
      "cell_type": "markdown",
      "metadata": {
        "id": "hr1bZAwRj2tb"
      },
      "source": [
        "fit the model on training data"
      ]
    },
    {
      "cell_type": "code",
      "metadata": {
        "id": "Jx0PvgZ7gaXf",
        "outputId": "d2a6e75b-bb5e-4c7f-8eab-fbb02229e9a1"
      },
      "source": [
        "estimator.fit({'train': s3_input_train,'validation': s3_input_test})"
      ],
      "execution_count": null,
      "outputs": [
        {
          "output_type": "stream",
          "text": [
            "2020-08-29 09:49:29 Starting - Starting the training job...\n",
            "2020-08-29 09:49:31 Starting - Launching requested ML instances.........\n",
            "2020-08-29 09:51:04 Starting - Preparing the instances for training...\n",
            "2020-08-29 09:51:44 Downloading - Downloading input data\n",
            "2020-08-29 09:51:44 Training - Downloading the training image..\u001b[34mINFO:sagemaker-containers:Imported framework sagemaker_xgboost_container.training\u001b[0m\n",
            "\u001b[34mINFO:sagemaker-containers:Failed to parse hyperparameter objective value binary:logistic to Json.\u001b[0m\n",
            "\u001b[34mReturning the value itself\u001b[0m\n",
            "\u001b[34mINFO:sagemaker-containers:No GPUs detected (normal if no gpus installed)\u001b[0m\n",
            "\u001b[34mINFO:sagemaker_xgboost_container.training:Running XGBoost Sagemaker in algorithm mode\u001b[0m\n",
            "\u001b[34mINFO:root:Determined delimiter of CSV input is ','\u001b[0m\n",
            "\u001b[34mINFO:root:Determined delimiter of CSV input is ','\u001b[0m\n",
            "\u001b[34mINFO:root:Determined delimiter of CSV input is ','\u001b[0m\n",
            "\u001b[34m[09:52:07] 28831x59 matrix with 1701029 entries loaded from /opt/ml/input/data/train?format=csv&label_column=0&delimiter=,\u001b[0m\n",
            "\u001b[34mINFO:root:Determined delimiter of CSV input is ','\u001b[0m\n",
            "\u001b[34m[09:52:07] 12357x59 matrix with 729063 entries loaded from /opt/ml/input/data/validation?format=csv&label_column=0&delimiter=,\u001b[0m\n",
            "\u001b[34mINFO:root:Single node training.\u001b[0m\n",
            "\u001b[34mINFO:root:Train matrix has 28831 rows\u001b[0m\n",
            "\u001b[34mINFO:root:Validation matrix has 12357 rows\u001b[0m\n",
            "\u001b[34m[09:52:07] WARNING: /workspace/src/learner.cc:328: \u001b[0m\n",
            "\u001b[34mParameters: { num_round } might not be used.\n",
            "\n",
            "  This may not be accurate due to some parameters are only used in language bindings but\n",
            "  passed down to XGBoost core.  Or some parameters are not used but slip through this\n",
            "  verification. Please open an issue if you find above cases.\n",
            "\n",
            "\u001b[0m\n",
            "\u001b[34m[0]#011train-error:0.10079#011validation-error:0.10528\u001b[0m\n",
            "\u001b[34m[1]#011train-error:0.09968#011validation-error:0.10456\u001b[0m\n",
            "\u001b[34m[2]#011train-error:0.10017#011validation-error:0.10375\u001b[0m\n",
            "\u001b[34m[3]#011train-error:0.09989#011validation-error:0.10310\u001b[0m\n",
            "\u001b[34m[4]#011train-error:0.09996#011validation-error:0.10286\u001b[0m\n",
            "\u001b[34m[5]#011train-error:0.09906#011validation-error:0.10261\u001b[0m\n",
            "\u001b[34m[6]#011train-error:0.09930#011validation-error:0.10286\u001b[0m\n",
            "\u001b[34m[7]#011train-error:0.09951#011validation-error:0.10261\u001b[0m\n",
            "\u001b[34m[8]#011train-error:0.09920#011validation-error:0.10286\u001b[0m\n",
            "\u001b[34m[9]#011train-error:0.09871#011validation-error:0.10294\u001b[0m\n",
            "\u001b[34m[10]#011train-error:0.09868#011validation-error:0.10294\u001b[0m\n",
            "\u001b[34m[11]#011train-error:0.09868#011validation-error:0.10326\u001b[0m\n",
            "\u001b[34m[12]#011train-error:0.09854#011validation-error:0.10358\u001b[0m\n",
            "\u001b[34m[13]#011train-error:0.09892#011validation-error:0.10342\u001b[0m\n",
            "\u001b[34m[14]#011train-error:0.09850#011validation-error:0.10342\u001b[0m\n",
            "\u001b[34m[15]#011train-error:0.09844#011validation-error:0.10326\u001b[0m\n",
            "\u001b[34m[16]#011train-error:0.09857#011validation-error:0.10318\u001b[0m\n",
            "\u001b[34m[17]#011train-error:0.09799#011validation-error:0.10318\u001b[0m\n",
            "\u001b[34m[18]#011train-error:0.09816#011validation-error:0.10383\u001b[0m\n",
            "\u001b[34m[19]#011train-error:0.09857#011validation-error:0.10383\u001b[0m\n",
            "\u001b[34m[20]#011train-error:0.09830#011validation-error:0.10350\u001b[0m\n",
            "\u001b[34m[21]#011train-error:0.09826#011validation-error:0.10318\u001b[0m\n",
            "\u001b[34m[22]#011train-error:0.09847#011validation-error:0.10399\u001b[0m\n",
            "\u001b[34m[23]#011train-error:0.09833#011validation-error:0.10407\u001b[0m\n",
            "\u001b[34m[24]#011train-error:0.09812#011validation-error:0.10415\u001b[0m\n",
            "\u001b[34m[25]#011train-error:0.09812#011validation-error:0.10399\u001b[0m\n",
            "\u001b[34m[26]#011train-error:0.09774#011validation-error:0.10375\u001b[0m\n",
            "\u001b[34m[27]#011train-error:0.09781#011validation-error:0.10375\u001b[0m\n",
            "\u001b[34m[28]#011train-error:0.09781#011validation-error:0.10391\u001b[0m\n",
            "\u001b[34m[29]#011train-error:0.09778#011validation-error:0.10367\u001b[0m\n",
            "\u001b[34m[30]#011train-error:0.09781#011validation-error:0.10383\u001b[0m\n",
            "\u001b[34m[31]#011train-error:0.09771#011validation-error:0.10358\u001b[0m\n",
            "\u001b[34m[32]#011train-error:0.09743#011validation-error:0.10391\u001b[0m\n",
            "\u001b[34m[33]#011train-error:0.09753#011validation-error:0.10342\u001b[0m\n",
            "\u001b[34m[34]#011train-error:0.09767#011validation-error:0.10342\u001b[0m\n",
            "\u001b[34m[35]#011train-error:0.09757#011validation-error:0.10350\u001b[0m\n",
            "\u001b[34m[36]#011train-error:0.09757#011validation-error:0.10342\u001b[0m\n",
            "\u001b[34m[37]#011train-error:0.09736#011validation-error:0.10342\u001b[0m\n",
            "\u001b[34m[38]#011train-error:0.09750#011validation-error:0.10342\u001b[0m\n",
            "\u001b[34m[39]#011train-error:0.09733#011validation-error:0.10350\u001b[0m\n",
            "\u001b[34m[40]#011train-error:0.09705#011validation-error:0.10358\u001b[0m\n",
            "\u001b[34m[41]#011train-error:0.09701#011validation-error:0.10383\u001b[0m\n",
            "\u001b[34m[42]#011train-error:0.09712#011validation-error:0.10407\u001b[0m\n",
            "\u001b[34m[43]#011train-error:0.09698#011validation-error:0.10375\u001b[0m\n",
            "\u001b[34m[44]#011train-error:0.09733#011validation-error:0.10342\u001b[0m\n",
            "\u001b[34m[45]#011train-error:0.09736#011validation-error:0.10367\u001b[0m\n",
            "\u001b[34m[46]#011train-error:0.09746#011validation-error:0.10350\u001b[0m\n",
            "\u001b[34m[47]#011train-error:0.09736#011validation-error:0.10358\u001b[0m\n",
            "\u001b[34m[48]#011train-error:0.09712#011validation-error:0.10334\u001b[0m\n",
            "\u001b[34m[49]#011train-error:0.09712#011validation-error:0.10318\u001b[0m\n",
            "\n",
            "2020-08-29 09:52:19 Uploading - Uploading generated training model\n",
            "2020-08-29 09:52:19 Completed - Training job completed\n",
            "Training seconds: 44\n",
            "Billable seconds: 21\n",
            "Managed Spot Training savings: 52.3%\n"
          ],
          "name": "stdout"
        }
      ]
    },
    {
      "cell_type": "markdown",
      "metadata": {
        "id": "OJAjPa9OgaXg"
      },
      "source": [
        "### Deploy Machine Learning Model As Endpoints"
      ]
    },
    {
      "cell_type": "code",
      "metadata": {
        "id": "s1meco9sgaXg",
        "outputId": "84befca9-3e98-40df-9e45-b646c94aa354"
      },
      "source": [
        "xgb_predictor = estimator.deploy(initial_instance_count=1,\n",
        "                                 instance_type='ml.m4.xlarge')"
      ],
      "execution_count": null,
      "outputs": [
        {
          "output_type": "stream",
          "text": [
            "Parameter image will be renamed to image_uri in SageMaker Python SDK v2.\n"
          ],
          "name": "stderr"
        },
        {
          "output_type": "stream",
          "text": [
            "---------------!"
          ],
          "name": "stdout"
        }
      ]
    },
    {
      "cell_type": "markdown",
      "metadata": {
        "id": "Ml0WvoCagaXg"
      },
      "source": [
        "#### Prediction of the Test Data by Using Endpoints"
      ]
    },
    {
      "cell_type": "code",
      "metadata": {
        "id": "BezO4kOtgaXg",
        "outputId": "27bbde59-f91d-449d-cb0d-1afc8485ef18"
      },
      "source": [
        "from sagemaker.predictor import csv_serializer\n",
        "\n",
        "test_data_array = test_data.drop(['y_no', 'y_yes'], axis=1).values #load the data into an array\n",
        "xgb_predictor.content_type = 'text/csv' # set the data type for an inference\n",
        "xgb_predictor.serializer = csv_serializer # set the serializer type\n",
        "predictions = xgb_predictor.predict(test_data_array).decode('utf-8') # predict!\n",
        "predictions_array = np.fromstring(predictions[1:], sep=',') # and turn the prediction into an array\n",
        "print(predictions_array.shape)"
      ],
      "execution_count": null,
      "outputs": [
        {
          "output_type": "stream",
          "text": [
            "(12357,)\n"
          ],
          "name": "stdout"
        }
      ]
    },
    {
      "cell_type": "code",
      "metadata": {
        "id": "wWD7LrmTgaXh",
        "outputId": "4eaad0b0-10b6-4805-9400-d294862bfb3b"
      },
      "source": [
        "predictions_array"
      ],
      "execution_count": null,
      "outputs": [
        {
          "output_type": "execute_result",
          "data": {
            "text/plain": [
              "array([0.05214286, 0.05660191, 0.05096195, ..., 0.03436061, 0.02942475,\n",
              "       0.03715819])"
            ]
          },
          "metadata": {
            "tags": []
          },
          "execution_count": 30
        }
      ]
    },
    {
      "cell_type": "code",
      "metadata": {
        "id": "HQt1MtpHgaXh",
        "outputId": "cce8a5aa-7ba0-433e-aefc-5bfa538584ca"
      },
      "source": [
        "cm = pd.crosstab(index=test_data['y_yes'], columns=np.round(predictions_array), rownames=['Observed'], colnames=['Predicted'])\n",
        "tn = cm.iloc[0,0]; fn = cm.iloc[1,0]; tp = cm.iloc[1,1]; fp = cm.iloc[0,1]; p = (tp+tn)/(tp+tn+fp+fn)*100\n",
        "print(\"\\n{0:<20}{1:<4.1f}%\\n\".format(\"Overall Classification Rate: \", p))\n",
        "print(\"{0:<15}{1:<15}{2:>8}\".format(\"Predicted\", \"No Purchase\", \"Purchase\"))\n",
        "print(\"Observed\")\n",
        "print(\"{0:<15}{1:<2.0f}% ({2:<}){3:>6.0f}% ({4:<})\".format(\"No Purchase\", tn/(tn+fn)*100,tn, fp/(tp+fp)*100, fp))\n",
        "print(\"{0:<16}{1:<1.0f}% ({2:<}){3:>7.0f}% ({4:<}) \\n\".format(\"Purchase\", fn/(tn+fn)*100,fn, tp/(tp+fp)*100, tp))"
      ],
      "execution_count": null,
      "outputs": [
        {
          "output_type": "stream",
          "text": [
            "\n",
            "Overall Classification Rate: 89.7%\n",
            "\n",
            "Predicted      No Purchase    Purchase\n",
            "Observed\n",
            "No Purchase    91% (10785)    34% (151)\n",
            "Purchase        9% (1124)     66% (297) \n",
            "\n"
          ],
          "name": "stdout"
        }
      ]
    },
    {
      "cell_type": "markdown",
      "metadata": {
        "id": "EmsabjbWgaXi"
      },
      "source": [
        "#### Deleting The Endpoints"
      ]
    },
    {
      "cell_type": "code",
      "metadata": {
        "id": "0hGikmE8gaXi",
        "outputId": "62c4bc61-37c0-4586-9ef0-6a0d2601254a"
      },
      "source": [
        "sagemaker.Session().delete_endpoint(xgb_predictor.endpoint)\n",
        "bucket_to_delete = boto3.resource('s3').Bucket(bucket_name)\n",
        "bucket_to_delete.objects.all().delete()"
      ],
      "execution_count": null,
      "outputs": [
        {
          "output_type": "execute_result",
          "data": {
            "text/plain": [
              "[{'ResponseMetadata': {'RequestId': '2FF829102DC6DFD1',\n",
              "   'HostId': 'mYPqeWyx3REoLIsQu2MVorzKLrlxES2n6Dcdr3PycVf1VkRCxicEewoPP8IxRguc5MGksLnjynY=',\n",
              "   'HTTPStatusCode': 200,\n",
              "   'HTTPHeaders': {'x-amz-id-2': 'mYPqeWyx3REoLIsQu2MVorzKLrlxES2n6Dcdr3PycVf1VkRCxicEewoPP8IxRguc5MGksLnjynY=',\n",
              "    'x-amz-request-id': '2FF829102DC6DFD1',\n",
              "    'date': 'Sat, 29 Aug 2020 10:21:27 GMT',\n",
              "    'connection': 'close',\n",
              "    'content-type': 'application/xml',\n",
              "    'transfer-encoding': 'chunked',\n",
              "    'server': 'AmazonS3'},\n",
              "   'RetryAttempts': 0},\n",
              "  'Deleted': [{'Key': 'xgboost-as-a-built-in-algo/train/train.csv'},\n",
              "   {'Key': 'xgboost-as-a-built-in-algo/test/test.csv'},\n",
              "   {'Key': 'xgboost-as-a-built-in-algo/output/sagemaker-xgboost-2020-08-29-09-49-29-015/output/model.tar.gz'}]}]"
            ]
          },
          "metadata": {
            "tags": []
          },
          "execution_count": 32
        }
      ]
    },
    {
      "cell_type": "code",
      "metadata": {
        "id": "MNgQlPsVgaXi"
      },
      "source": [
        ""
      ],
      "execution_count": null,
      "outputs": []
    }
  ]
}