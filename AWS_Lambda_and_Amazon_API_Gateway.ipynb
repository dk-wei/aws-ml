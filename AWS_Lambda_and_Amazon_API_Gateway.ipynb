{
  "nbformat": 4,
  "nbformat_minor": 0,
  "metadata": {
    "colab": {
      "name": "AWS Lambda and Amazon API Gateway.ipynb",
      "provenance": [],
      "authorship_tag": "ABX9TyNffc0GyajzXceON17qTlHc",
      "include_colab_link": true
    },
    "kernelspec": {
      "name": "python3",
      "display_name": "Python 3"
    },
    "language_info": {
      "name": "python"
    }
  },
  "cells": [
    {
      "cell_type": "markdown",
      "metadata": {
        "id": "view-in-github",
        "colab_type": "text"
      },
      "source": [
        "<a href=\"https://colab.research.google.com/github/dk-wei/aws-ml/blob/main/AWS_Lambda_and_Amazon_API_Gateway.ipynb\" target=\"_parent\"><img src=\"https://colab.research.google.com/assets/colab-badge.svg\" alt=\"Open In Colab\"/></a>"
      ]
    },
    {
      "cell_type": "markdown",
      "metadata": {
        "id": "fqfwuGqDrhNY"
      },
      "source": [
        "Reference: [Call an Amazon SageMaker model endpoint using Amazon API Gateway and AWS Lambda](https://aws.amazon.com/blogs/machine-learning/call-an-amazon-sagemaker-model-endpoint-using-amazon-api-gateway-and-aws-lambda/)\n",
        "\n",
        "After we deployed our ML model on in production by creating a SageMaker model endpoint, we need to build a architecture to call our model and return prediction output. The regular practice is to invoke the SageMaker endpoint using API Gateway and Lambda function:\n",
        "\n",
        "1. Starting from the client side, a client script calls an Amazon API Gateway API action and passes parameter values (API Gateway is a layer that provides the API to the client).\n",
        "2. The `Lambda function` parses the value and sends it to the SageMaker model endpoint. \n",
        "3. The model performs the prediction and returns the predicted value to Lambda. The Lambda function parses the returned value and sends it back to API Gateway. API Gateway responds to the client with that value.\n",
        "\n",
        "![](https://mindsdb.com/wp-content/uploads/2020/11/5e5585613c280e8d01c846ef_L3UzaupMh6xMes5rk9GZMBg7TXNPZvPnXrQc58knp-6JRZhjdw9UiBuDDDEDSNQsKhol3Y5NLyTisl-CrWre3AmQiGuO5UYRoDd6Gggzib6rLb8t9Ymi0x4EuVLU8XytH2zvBtEj.png)\n",
        "\n",
        "\n",
        "\n"
      ]
    },
    {
      "cell_type": "markdown",
      "metadata": {
        "id": "qVUQJDiSvGrN"
      },
      "source": [
        "Complete steps:\n",
        "1. Train your model and Create a SageMaker model endpoint by any means.\n",
        "2. Create a Lambda function that calls the SageMaker runtime invoke_endpoint\n",
        "3. Create a REST API: Integration request setup\n",
        "4. Test data (with postman)\n"
      ]
    },
    {
      "cell_type": "markdown",
      "metadata": {
        "id": "0U0_NXddu5KU"
      },
      "source": [
        "Sample Lambda function code:"
      ]
    },
    {
      "cell_type": "code",
      "metadata": {
        "id": "z1x6y14_rYHa"
      },
      "source": [
        "import os\n",
        "import io\n",
        "import boto3\n",
        "import json\n",
        "import csv\n",
        "\n",
        "# grab environment variables\n",
        "ENDPOINT_NAME = os.environ['ENDPOINT_NAME']  \n",
        "\n",
        "# use boto3 to get sagemaker runtime\n",
        "runtime= boto3.client('runtime.sagemaker')\n",
        "\n",
        "def lambda_handler(event, context):\n",
        "    print(\"Received event: \" + json.dumps(event, indent=2))\n",
        "    \n",
        "    data = json.loads(json.dumps(event))\n",
        "    payload = data['data']\n",
        "    print(payload)\n",
        "    \n",
        "    # this will allow us pass the input data and invoke sagemaker runtime\n",
        "    response = runtime.invoke_endpoint(EndpointName=ENDPOINT_NAME,\n",
        "                                       ContentType='text/csv',\n",
        "                                       Body=payload)\n",
        "    print(response)\n",
        "    result = json.loads(response['Body'].read().decode())\n",
        "    print(result)\n",
        "    pred = int(result['predictions'][0]['score'])\n",
        "    predicted_label = 'M' if pred == 1 else 'B'\n",
        "    \n",
        "    return predicted_label"
      ],
      "execution_count": null,
      "outputs": []
    },
    {
      "cell_type": "markdown",
      "metadata": {
        "id": "4J4jU4L9xaCs"
      },
      "source": [
        "Sample Amazon Gateway config:\n",
        "\n",
        "Once we call the api, the `Lambda` function will triggered and invoke the endpoint to do the prediction, then return output\n",
        "\n",
        "![](https://d2908q01vomqb2.cloudfront.net/f1f836cb4ea6efb2a0b1b99f41ad8b103eff4b59/2021/03/31/10-Actions-Method-execution.jpg)"
      ]
    },
    {
      "cell_type": "code",
      "metadata": {
        "id": "QjH4jSPGxhWL"
      },
      "source": [
        ""
      ],
      "execution_count": null,
      "outputs": []
    }
  ]
}